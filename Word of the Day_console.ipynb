{
 "cells": [
  {
   "cell_type": "markdown",
   "metadata": {},
   "source": [
    "# Word of the Day\n",
    "\n",
    "This notebook fetches the word every day from the site http://www.dictionary.com/wordoftheday/ \n",
    "\n",
    "What it results into:\n",
    "\n",
    "1. Name of the word\n",
    "2. Category of the word\n",
    "3. Meanings of the word\n",
    "4. Origin of the Word\n",
    "5. Usage Examples from the Web\n",
    "\n"
   ]
  },
  {
   "cell_type": "code",
   "execution_count": 43,
   "metadata": {
    "collapsed": false
   },
   "outputs": [],
   "source": [
    "# Import the necessary libraries\n",
    "\n",
    "import requests\n",
    "from bs4 import BeautifulSoup\n",
    "import os\n",
    "import datetime\n",
    "import warnings\n",
    "\n",
    "warnings.filterwarnings('ignore')\n",
    "url = \"http://www.dictionary.com/wordoftheday/\"\n",
    "\n",
    "\n",
    "# Get the date of previous day.\n",
    "\n",
    "date = datetime.datetime.now() - datetime.timedelta(days=1)\n",
    "date_format = str(date.year) + '/' + str(date.month) + '/' + str(date.day)\n",
    "\n",
    "newurl = url + date_format\n",
    "\n",
    "response = requests.get(newurl)\n",
    "\n",
    "status_code = response.status_code \n",
    "if(~status_code == 200):\n",
    "    print(\"The page you are trying to view is giving the error {}\".format(status_code))\n",
    "    quit()\n",
    "\n",
    "# Using BeautifulSoup\n",
    "soup = BeautifulSoup(response.content)\n",
    "\n",
    "word = soup.find('div', class_ = 'tile-image')\n",
    "word.a['href']\n",
    "\n",
    "#Get the URL of each word. Each word has a separate page on the site.\n",
    "\n",
    "word_url = word.a['href']\n",
    "\n",
    "\n",
    "# Make a request to the word URL\n",
    "\n",
    "response = requests.get(word_url)\n",
    "soup = BeautifulSoup(response.content)\n",
    "\n",
    "status_code = response.status_code \n",
    "if(~status_code == 200):\n",
    "    print(\"The page you are trying to view is giving the error {}\".format(status_code))\n",
    "    quit()"
   ]
  },
  {
   "cell_type": "code",
   "execution_count": 44,
   "metadata": {
    "collapsed": false
   },
   "outputs": [
    {
     "data": {
      "text/plain": [
       "'muckrake'"
      ]
     },
     "execution_count": 44,
     "metadata": {},
     "output_type": "execute_result"
    }
   ],
   "source": [
    "# Get the name of the word\n",
    "\n",
    "soup = BeautifulSoup(response.content)\n",
    "\n",
    "word = soup.find('h1', class_= 'head-entry')\n",
    "name_of_word = word.contents[0].contents[0]\n",
    "name_of_word"
   ]
  },
  {
   "cell_type": "code",
   "execution_count": 45,
   "metadata": {
    "collapsed": false
   },
   "outputs": [
    {
     "name": "stdout",
     "output_type": "stream",
     "text": [
      "<class 'bs4.element.Tag'>\n"
     ]
    }
   ],
   "source": [
    "# Get the category of the word\n",
    "\n",
    "def_list = soup.find('div', class_ = 'def-list')\n",
    "print(type(def_list))\n",
    "category = def_list.contents[1].span.contents[0]\n",
    "#category"
   ]
  },
  {
   "cell_type": "code",
   "execution_count": 46,
   "metadata": {
    "collapsed": false
   },
   "outputs": [
    {
     "name": "stdout",
     "output_type": "stream",
     "text": [
      "<class 'bs4.element.ResultSet'>\n"
     ]
    }
   ],
   "source": [
    "# Get the indices of the meanings of the word\n",
    "\n",
    "numbers = def_list.contents[1].find_all('span', class_ = 'def-number')\n",
    "print(type(numbers))\n",
    "numbers_list = [x.contents[0] for x in numbers]\n",
    "#numbers_list"
   ]
  },
  {
   "cell_type": "code",
   "execution_count": 47,
   "metadata": {
    "collapsed": false
   },
   "outputs": [
    {
     "data": {
      "text/plain": [
       "['to search for and expose real or alleged corruption, scandal, or the like, especially in politics.']"
      ]
     },
     "execution_count": 47,
     "metadata": {},
     "output_type": "execute_result"
    }
   ],
   "source": [
    "# Get the meanings of the words\n",
    "\n",
    "meanings = def_list.contents[1].find_all('div', class_ = 'def-content')\n",
    "meaning_list = [x.contents[0].strip() for x in meanings]\n",
    "meaning_list"
   ]
  },
  {
   "cell_type": "code",
   "execution_count": 48,
   "metadata": {
    "collapsed": false
   },
   "outputs": [
    {
     "data": {
      "text/plain": [
       "['1.to search for and expose real or alleged corruption, scandal, or the like, especially in politics.']"
      ]
     },
     "execution_count": 48,
     "metadata": {},
     "output_type": "execute_result"
    }
   ],
   "source": [
    "# Append the indices and meanings of the word\n",
    "new_meanings_list = []\n",
    "for a,b in zip(numbers_list, meaning_list):\n",
    "    new_meanings_list.append('{}{}'.format(a,b))\n",
    "new_meanings_list"
   ]
  },
  {
   "cell_type": "code",
   "execution_count": 49,
   "metadata": {
    "collapsed": false
   },
   "outputs": [
    {
     "data": {
      "text/plain": [
       "[]"
      ]
     },
     "execution_count": 49,
     "metadata": {},
     "output_type": "execute_result"
    }
   ],
   "source": [
    "# Get the origin of the words\n",
    "\n",
    "origin_languages = soup.find_all('div', class_ = 'map-origin-language')\n",
    "origin = []\n",
    "for o in origin_languages:\n",
    "    origin.append(o.find('a').contents[0])\n",
    "origin"
   ]
  },
  {
   "cell_type": "code",
   "execution_count": 50,
   "metadata": {
    "collapsed": false
   },
   "outputs": [
    {
     "data": {
      "text/plain": [
       "['Of Walt Whitman it is: \"The dirty, clumsy paws of a harper whose plectrum is a muckrake.\"',\n",
       " 'The journalist might well exchange the muckrake for the pick and dig it out.']"
      ]
     },
     "execution_count": 50,
     "metadata": {},
     "output_type": "execute_result"
    }
   ],
   "source": [
    "# Get the Examples from the Web\n",
    "import re\n",
    "examples = soup.find_all('p', class_= 'partner-example-text')\n",
    "\n",
    "web_usage = []\n",
    "for text in examples:\n",
    "    web = [] \n",
    "    for t in text:\n",
    "        web.append(str(t))\n",
    "    final_word = \"\".join(web).strip()\n",
    "    final_word = re.sub(r'<em>', '', final_word)\n",
    "    final_word = re.sub(r'</em>', '', final_word)\n",
    "   \n",
    "    web_usage.append(final_word)\n",
    "web_usage"
   ]
  },
  {
   "cell_type": "markdown",
   "metadata": {},
   "source": [
    "# Here are the results"
   ]
  },
  {
   "cell_type": "code",
   "execution_count": 51,
   "metadata": {
    "collapsed": false
   },
   "outputs": [
    {
     "name": "stdout",
     "output_type": "stream",
     "text": [
      "\n",
      "\n",
      "Date: 2017-02-09 \n",
      "\n",
      "\n",
      "Word: muckrake \n",
      "\n",
      "\n",
      "Category: verb (used without object) \n",
      "\n",
      "\n",
      "Meanings: \n",
      "\n",
      "\n",
      "1.to search for and expose real or alleged corruption, scandal, or the like, especially in politics.\n",
      "\n",
      "\n",
      "\n",
      "Example Usages from the Web: \n",
      " \n",
      "\n",
      "1.Of Walt Whitman it is: \"The dirty, clumsy paws of a harper whose plectrum is a muckrake.\"\n",
      "\n",
      "\n",
      "2.The journalist might well exchange the muckrake for the pick and dig it out.\n",
      "\n",
      "\n"
     ]
    }
   ],
   "source": [
    "f = open('results.txt', 'a+')\n",
    "print(\"\\n\\nDate: {} \\n\".format(date.strftime('%Y-%m-%d')))\n",
    "print(\"\\nWord: {} \\n\".format(name_of_word))\n",
    "print(\"\\nCategory: {} \\n\".format(category))\n",
    "print(\"\\nMeanings: \\n\\n\")\n",
    "for x in new_meanings_list:\n",
    "    print(x)\n",
    "    print('\\n')\n",
    "i = 1\n",
    "print(\"\\nExample Usages from the Web: \\n \\n\")\n",
    "for x in web_usage:\n",
    "    print('{}.{}'.format(i,x))\n",
    "    print('\\n')\n",
    "    i+=1"
   ]
  },
  {
   "cell_type": "code",
   "execution_count": 52,
   "metadata": {
    "collapsed": false
   },
   "outputs": [
    {
     "name": "stdout",
     "output_type": "stream",
     "text": [
      "Press Enter to quit\n"
     ]
    },
    {
     "data": {
      "text/plain": [
       "''"
      ]
     },
     "execution_count": 52,
     "metadata": {},
     "output_type": "execute_result"
    }
   ],
   "source": [
    "input(\"Press Enter to quit\")"
   ]
  },
  {
   "cell_type": "code",
   "execution_count": null,
   "metadata": {
    "collapsed": false
   },
   "outputs": [],
   "source": []
  },
  {
   "cell_type": "code",
   "execution_count": null,
   "metadata": {
    "collapsed": true
   },
   "outputs": [],
   "source": []
  }
 ],
 "metadata": {
  "anaconda-cloud": {},
  "kernelspec": {
   "display_name": "Python [Root]",
   "language": "python",
   "name": "Python [Root]"
  },
  "language_info": {
   "codemirror_mode": {
    "name": "ipython",
    "version": 3
   },
   "file_extension": ".py",
   "mimetype": "text/x-python",
   "name": "python",
   "nbconvert_exporter": "python",
   "pygments_lexer": "ipython3",
   "version": "3.5.2"
  }
 },
 "nbformat": 4,
 "nbformat_minor": 0
}
